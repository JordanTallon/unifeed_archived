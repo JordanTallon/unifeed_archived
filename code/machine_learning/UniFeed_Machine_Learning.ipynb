{
  "nbformat": 4,
  "nbformat_minor": 0,
  "metadata": {
    "colab": {
      "provenance": [],
      "collapsed_sections": [
        "WaZ5jmBqNBB9",
        "O7MVzJWx4Dxj",
        "d6W7M6eknEcf",
        "EvZjff2Nazmt",
        "WOMX5Hu7w7b4",
        "V1zQms7Yxr3r",
        "VPwWa0zdD6e-",
        "CA-g2fXCQAgd"
      ],
      "machine_shape": "hm"
    },
    "kernelspec": {
      "name": "python3",
      "display_name": "Python 3"
    },
    "language_info": {
      "name": "python"
    }
  },
  "cells": [
    {
      "cell_type": "markdown",
      "source": [
        "# Dependencies"
      ],
      "metadata": {
        "id": "WaZ5jmBqNBB9"
      }
    },
    {
      "cell_type": "code",
      "source": [
        "!pip install datasets\n",
        "!pip install transformers\n",
        "!pip install huggingface_hub\n",
        "!pip install setfit\n",
        "!pip install spacytextblob"
      ],
      "metadata": {
        "id": "eJ_VujdOd8WH"
      },
      "execution_count": null,
      "outputs": []
    },
    {
      "cell_type": "code",
      "execution_count": null,
      "metadata": {
        "id": "VSRhwW_id2nT"
      },
      "outputs": [],
      "source": [
        "from datasets import load_dataset, Dataset, DatasetDict\n",
        "import pandas as pd\n",
        "import matplotlib.pyplot as plt\n",
        "import numpy as np\n",
        "from transformers import DistilBertTokenizerFast, DistilBertForSequenceClassification, Trainer, TrainingArguments\n",
        "import torch\n",
        "from sklearn.model_selection import train_test_split"
      ]
    },
    {
      "cell_type": "markdown",
      "source": [
        "# Introduction"
      ],
      "metadata": {
        "id": "dGN-7-II2ZWj"
      }
    },
    {
      "cell_type": "markdown",
      "source": [
        "This notebook contains rough outlines and explanations of each step. For a more detailed analysis of the model creation process, see the UniFeed technical specification.\n",
        "\n",
        "**Goal:**Detecting political bias against entities in sentences\n",
        "\n",
        "\n",
        "**How?:** Determine lexical bias using sentence transformers\n",
        "\n",
        "Named entities like people, organizations, and locations are often the subjects of biased statements.\n",
        "\n",
        "Adjectives play a crucial role in conveying sentiment, opinion, and bias.\n",
        "\n",
        "Media bias by word choice rarely depends on context outside the sentences."
      ],
      "metadata": {
        "id": "2KG5xMdrJMh2"
      }
    },
    {
      "cell_type": "markdown",
      "source": [
        "# Initial Datasets\n",
        "\n",
        "**Dataset 1:** BABE\n",
        "* Primary Dataset used in this model (political sentences from news articles manually curated by experts). It\n",
        "\n",
        "**Dataset 2:** MBIB -The First Media Bias Identification Benchmark Task and Dataset Collection\n",
        "* Secondary Dataset used to fill in gaps and imbalances in the first Dataset. I\n",
        "\n",
        "\n",
        "\n",
        "**More info**\n",
        "\n",
        "BABE Paper: https://aclanthology.org/2021.findings-emnlp.101/\n",
        "\n",
        "MBIB Paper: https://dl.acm.org/doi/pdf/10.1145/3539618.3591882\n"
      ],
      "metadata": {
        "id": "O7MVzJWx4Dxj"
      }
    },
    {
      "cell_type": "code",
      "source": [
        "dataset = load_dataset(\"mediabiasgroup/BABE-v3\")\n",
        "dataset_2 = load_dataset(\"mediabiasgroup/mbib-base\")"
      ],
      "metadata": {
        "id": "guo9A3tap63t"
      },
      "execution_count": null,
      "outputs": []
    },
    {
      "cell_type": "code",
      "source": [
        "dataset_2 = dataset_2['political_bias']"
      ],
      "metadata": {
        "id": "hPLWP_RfN0vI"
      },
      "execution_count": null,
      "outputs": []
    },
    {
      "cell_type": "markdown",
      "source": [
        "Global Variables"
      ],
      "metadata": {
        "id": "xYtbnFnD1Szl"
      }
    },
    {
      "cell_type": "code",
      "source": [
        "# Figure Colours\n",
        "fig1, fig2, fig3 = \"#84A98C\", \"#BE95C4\", \"#BB9457\"\n",
        "\n",
        "# Seed to be used in random functions to make them deterministic and reproducible\n",
        "RANDOM_SEED = 326"
      ],
      "metadata": {
        "id": "eVi0WyWO1UVf"
      },
      "execution_count": null,
      "outputs": []
    },
    {
      "cell_type": "markdown",
      "source": [
        "# Dataset Integration"
      ],
      "metadata": {
        "id": "d6W7M6eknEcf"
      }
    },
    {
      "cell_type": "markdown",
      "source": [
        "First Dataset"
      ],
      "metadata": {
        "id": "qXG3Exe4371W"
      }
    },
    {
      "cell_type": "code",
      "source": [
        "# Convert the HuggingFace dataset to pandas DataFrames\n",
        "df = pd.DataFrame(dataset['train'])\n",
        "\n",
        "# Drop the columns we do not need for out model ('text' is our feature, 'type' is our class. So the rest can go)\n",
        "# I hardcode dropping each column to make it easy to see what data is being dropped\n",
        "df.drop('news_link', axis=1, inplace=True)\n",
        "df.drop('outlet', axis=1, inplace=True)\n",
        "df.drop('topic', axis=1, inplace=True)\n",
        "df.drop('label', axis=1, inplace=True)\n",
        "df.drop('label_opinion', axis=1, inplace=True)\n",
        "df.drop('biased_words', axis=1, inplace=True)\n",
        "\n",
        "# Rename 'type' column to 'label' (standard column name for model training)\n",
        "df.rename(columns={'type': 'label'}, inplace=True)"
      ],
      "metadata": {
        "id": "g9qNxIIBl_TH"
      },
      "execution_count": null,
      "outputs": []
    },
    {
      "cell_type": "markdown",
      "source": [
        "Second Dataset"
      ],
      "metadata": {
        "id": "-paf4mv17edE"
      }
    },
    {
      "cell_type": "code",
      "source": [
        "# Convert the HuggingFace dataset to pandas DataFrames\n",
        "df2 = pd.DataFrame(dataset_2)\n",
        "\n",
        "# This dataset has the text labeled 1 or 0 (biased or unbiased), it is political based, so 1 basically means Right OR Left bias\n",
        "# Since we are only using this dataset for filling in missing Center classes, we only need text labeled 0 (No Right OR Left bias)\n",
        "df2 = df2[df2['label'] == 0]\n",
        "# Change all values from 0 to 'center' for compatibility with the primary Dataset\n",
        "df2['label'] = 'center'"
      ],
      "metadata": {
        "id": "tNXzn-F56BSL"
      },
      "execution_count": null,
      "outputs": []
    },
    {
      "cell_type": "markdown",
      "source": [
        "# Data Analysis"
      ],
      "metadata": {
        "id": "EvZjff2Nazmt"
      }
    },
    {
      "cell_type": "code",
      "source": [
        "df_analysis = df.copy()"
      ],
      "metadata": {
        "id": "Ir_j_0Enbx0x"
      },
      "execution_count": null,
      "outputs": []
    },
    {
      "cell_type": "markdown",
      "source": [
        "Analyze the distribution on sentence lengths (in words)"
      ],
      "metadata": {
        "id": "UvmAb6_ndf38"
      }
    },
    {
      "cell_type": "code",
      "source": [
        "df_analysis['sentence_length'] = df_analysis['text'].apply(lambda x: len(x.split()))"
      ],
      "metadata": {
        "id": "Op6KlyRFa1XI"
      },
      "execution_count": null,
      "outputs": []
    },
    {
      "cell_type": "code",
      "source": [
        "all_analysis = df_analysis['sentence_length'].describe()\n",
        "display(all_analysis)"
      ],
      "metadata": {
        "id": "3NgRtl0Tb4hm"
      },
      "execution_count": null,
      "outputs": []
    },
    {
      "cell_type": "code",
      "source": [
        "# Create a histogram showing the distribution of all sentence lengths\n",
        "plt.hist(df_analysis['sentence_length'], bins=10, edgecolor='black')\n",
        "plt.title('Histogram of Sentence Lengths (in words)')\n",
        "plt.xlabel('Sentence Length')\n",
        "plt.ylabel('Frequency')\n",
        "plt.show()"
      ],
      "metadata": {
        "id": "njPsTFksb8ho"
      },
      "execution_count": null,
      "outputs": []
    },
    {
      "cell_type": "code",
      "source": [
        "display(df_analysis[df_analysis['sentence_length'] > 88])"
      ],
      "metadata": {
        "id": "rI2HQhmd8h19"
      },
      "execution_count": null,
      "outputs": []
    },
    {
      "cell_type": "code",
      "source": [
        "# Create a box plot showing all sentence lengths\n",
        "plt.boxplot(df_analysis['sentence_length'])\n",
        "plt.title('Box Plot of Sentence Lengths (in words)')\n",
        "plt.ylabel('Sentence Length (in words)')\n",
        "plt.xticks([1], ['Sentence Lengths'])\n",
        "plt.show()"
      ],
      "metadata": {
        "id": "msVGwS9MfMb0"
      },
      "execution_count": null,
      "outputs": []
    },
    {
      "cell_type": "markdown",
      "source": [
        "Analysis focused on sentences beloning to specific labels"
      ],
      "metadata": {
        "id": "PV1mbKiifVmA"
      }
    },
    {
      "cell_type": "code",
      "source": [
        "right_analysis = df_analysis[df_analysis['label'] == 'right']['sentence_length'].describe()\n",
        "left_analysis = df_analysis[df_analysis['label'] == 'left']['sentence_length'].describe()\n",
        "center_analysis = df_analysis[df_analysis['label'] == 'center']['sentence_length'].describe()"
      ],
      "metadata": {
        "id": "9FyZI-KyfiQM"
      },
      "execution_count": null,
      "outputs": []
    },
    {
      "cell_type": "code",
      "source": [
        "display(all_analysis)"
      ],
      "metadata": {
        "id": "alyjaJUCiwL3"
      },
      "execution_count": null,
      "outputs": []
    },
    {
      "cell_type": "code",
      "source": [
        "display(right_analysis)\n",
        "display(center_analysis)\n",
        "display(left_analysis)"
      ],
      "metadata": {
        "id": "U8wk8BLAfT3H"
      },
      "execution_count": null,
      "outputs": []
    },
    {
      "cell_type": "markdown",
      "source": [
        "The sentence lengths look pretty good, there's no extreme skew. There are outliers but I do not feel comfortable removing them for 2 reasons:\n",
        "1. There are very few of them and I want longer sentences to be represented in the dataset.\n",
        "2. What if sentence length has a valid association to political bias. Currently both left and right sentence have a max of 80 and 99 respectively. Whereas Center has a max of 62. This could be a data issue, or it may be the case that biased sentences are typically longer (e.g. more adjectives?). Needs deeper research.\n",
        "\n",
        "\n",
        "However, I do feel comfortable removing all sentences > 90 words or < 9 words from the second dataframe (the one I will use to fill in missing center entries when balancing the data). That will guarantee that it does not introduce a skew to the first dataset. There is no need to individually analyze the second dataset, as long as it conforms to the range of the first one, that's all that matters.\n"
      ],
      "metadata": {
        "id": "N7B2F77TdtNA"
      }
    },
    {
      "cell_type": "code",
      "source": [
        "# This shows that the '1' min of center is a single entry data error and can be removed in the cleaning to bring it's min to 9 (in line with left and right)\n",
        "display(df_analysis[df_analysis['label'] == 'center'].sort_values('sentence_length'))"
      ],
      "metadata": {
        "id": "vHBqalhli2et"
      },
      "execution_count": null,
      "outputs": []
    },
    {
      "cell_type": "markdown",
      "source": [
        "# Dataset Cleaning"
      ],
      "metadata": {
        "id": "WOMX5Hu7w7b4"
      }
    },
    {
      "cell_type": "markdown",
      "source": [
        "Before Cleaning\n",
        "\n",
        "![image.png](data:image/png;base64,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)"
      ],
      "metadata": {
        "id": "fhO8Wvy8Mje2"
      }
    },
    {
      "cell_type": "markdown",
      "source": [
        "After Cleaning\n",
        "\n",
        "![image.png](data:image/png;base64,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)"
      ],
      "metadata": {
        "id": "xAki1j5yMt_j"
      }
    },
    {
      "cell_type": "code",
      "source": [
        "# I like to make a copy of the dataframe to use in each different section so I can easily revert changes if necessary\n",
        "# DataFrame checkpoint\n",
        "clean_df = df.copy()\n",
        "clean_df2 = df2.copy()"
      ],
      "metadata": {
        "id": "GOxEVqvbw8rD"
      },
      "execution_count": null,
      "outputs": []
    },
    {
      "cell_type": "code",
      "source": [
        "counts = clean_df['label'].value_counts()\n",
        "\n",
        "desired_order = ['left', 'center', 'right']\n",
        "\n",
        "# Make the bar chart order: Left, Center, Right but also include any extra values, e.g NaN\n",
        "ordered_counts = counts.reindex(desired_order + [x for x in counts.index if x not in desired_order])\n",
        "\n",
        "ordered_counts.plot(kind='bar', alpha=0.66)\n",
        "\n",
        "plt.title('Dataset Entries')\n",
        "plt.xlabel('Entry Type')\n",
        "plt.ylabel('No. of Entries')\n",
        "plt.xticks(rotation=0)\n",
        "\n",
        "plt.show()"
      ],
      "metadata": {
        "id": "smDBlvCup5R_"
      },
      "execution_count": null,
      "outputs": []
    },
    {
      "cell_type": "markdown",
      "source": [
        "Remove rows with missing values"
      ],
      "metadata": {
        "id": "iEtcbU8xxOg5"
      }
    },
    {
      "cell_type": "code",
      "source": [
        "# Filter out nan political labels\n",
        "print(\"Before:\", len(clean_df))\n",
        "clean_df = clean_df[clean_df['label'] != 'nan']\n",
        "print(\"After:\", len(clean_df))"
      ],
      "metadata": {
        "id": "q4B3lw_grXAJ"
      },
      "execution_count": null,
      "outputs": []
    },
    {
      "cell_type": "markdown",
      "source": [
        "Merge duplicate entries"
      ],
      "metadata": {
        "id": "qTRKWT8VxQBH"
      }
    },
    {
      "cell_type": "code",
      "source": [
        "print(\"Before:\", len(clean_df))\n",
        "clean_df.drop_duplicates(keep='first', inplace=True)\n",
        "print(\"After:\", len(clean_df))"
      ],
      "metadata": {
        "id": "KZYptGF7xSoC"
      },
      "execution_count": null,
      "outputs": []
    },
    {
      "cell_type": "markdown",
      "source": [
        "Filter out rows in df2 where 'text' is None"
      ],
      "metadata": {
        "id": "T_MDEM8QPXvQ"
      }
    },
    {
      "cell_type": "code",
      "source": [
        "clean_df2 = clean_df2[clean_df2['text'].notna()]"
      ],
      "metadata": {
        "id": "Id-8Jl4QPWjt"
      },
      "execution_count": null,
      "outputs": []
    },
    {
      "cell_type": "markdown",
      "source": [
        "Remove entries in df2 that have the same text as df1 (since df2 is filling in df1 gaps, we do not want duplicates coming over in the case of content overlap)"
      ],
      "metadata": {
        "id": "5Vapw57J818f"
      }
    },
    {
      "cell_type": "code",
      "source": [
        "print(\"Before:\", len(clean_df2))\n",
        "clean_df2 = clean_df2[~clean_df2['text'].isin(clean_df['text'])]\n",
        "print(\"After:\", len(clean_df2))"
      ],
      "metadata": {
        "id": "dNyGtoPe87Ea"
      },
      "execution_count": null,
      "outputs": []
    },
    {
      "cell_type": "markdown",
      "source": [
        "Drop duplicates for df2"
      ],
      "metadata": {
        "id": "hlSLih6yMp1E"
      }
    },
    {
      "cell_type": "code",
      "source": [
        "print(\"Before:\", len(clean_df2))\n",
        "clean_df2.drop_duplicates(keep='first', inplace=True)\n",
        "print(\"After:\", len(clean_df2))"
      ],
      "metadata": {
        "id": "mVnEB3249hz3"
      },
      "execution_count": null,
      "outputs": []
    },
    {
      "cell_type": "markdown",
      "source": [
        "Remove entries outside of expected word length. See comments or Data Analysis section for more information.\n",
        "\n"
      ],
      "metadata": {
        "id": "u5gA9Yn6kW0P"
      }
    },
    {
      "cell_type": "code",
      "source": [
        "clean_df2"
      ],
      "metadata": {
        "id": "dqnWTwvYnEDd"
      },
      "execution_count": null,
      "outputs": []
    },
    {
      "cell_type": "code",
      "source": [
        "# This removes only 1 entry and brings the min of the dataset from 1 to 9.\n",
        "# The removed entry is a data error for the center class discovered in the dataset analysis section.\n",
        "print(\"Before:\", len(clean_df))\n",
        "clean_df = clean_df[clean_df['text'].str.split().apply(len) > 8]\n",
        "clean_df = clean_df[clean_df['text'].str.split().apply(len) < 90]\n",
        "print(\"After:\", len(clean_df))"
      ],
      "metadata": {
        "id": "liPO0UmRkipo"
      },
      "execution_count": null,
      "outputs": []
    },
    {
      "cell_type": "code",
      "source": [
        "# This ensures that the second dataset (the one used to fill missing center entries in data balancing later) falls within\n",
        "# the same range as the first dataset (8-90 words). 1407 entries from df2 are lost here, so this is quite crucial for cleaning\n",
        "# the second dataset to be a good donor for the first first dataset.\n",
        "clean_df2 = clean_df2[clean_df2['text'].str.split().apply(len) > 8]\n",
        "clean_df2 = clean_df2[clean_df2['text'].str.split().apply(len) < 90]"
      ],
      "metadata": {
        "id": "AYrn2CvLk8MI"
      },
      "execution_count": null,
      "outputs": []
    },
    {
      "cell_type": "code",
      "source": [
        "clean_df2"
      ],
      "metadata": {
        "id": "zIdF54h5PgAP"
      },
      "execution_count": null,
      "outputs": []
    },
    {
      "cell_type": "code",
      "source": [
        "# Push section changes to global df\n",
        "df = clean_df\n",
        "df2 = clean_df2"
      ],
      "metadata": {
        "id": "O34Sd6lZx2Xo"
      },
      "execution_count": null,
      "outputs": []
    },
    {
      "cell_type": "markdown",
      "source": [
        "# Dataset Balancing"
      ],
      "metadata": {
        "id": "V1zQms7Yxr3r"
      }
    },
    {
      "cell_type": "code",
      "source": [
        "# Dataframe checkpoints\n",
        "balanced_df = df.copy()\n",
        "balanced_df2 = df2.copy()"
      ],
      "metadata": {
        "id": "dXDHHe9nx751"
      },
      "execution_count": null,
      "outputs": []
    },
    {
      "cell_type": "code",
      "source": [
        "# Sample 297 center entries from df2, 297 is the difference between the current center entry count and the median\n",
        "random_center_sample = balanced_df2.sample(n=297, random_state=RANDOM_SEED)\n",
        "\n",
        "balanced_df = pd.concat([balanced_df, random_center_sample], ignore_index=True)"
      ],
      "metadata": {
        "id": "XIH9dEzO_-NC"
      },
      "execution_count": null,
      "outputs": []
    },
    {
      "cell_type": "code",
      "source": [
        "type_counts = balanced_df['label'].value_counts()"
      ],
      "metadata": {
        "id": "jyN8DHC1x1zq"
      },
      "execution_count": null,
      "outputs": []
    },
    {
      "cell_type": "code",
      "source": [
        "# Data\n",
        "categories = ['left', 'center', 'right']\n",
        "counts = [type_counts['left'], type_counts['center'], type_counts['right']]\n",
        "\n",
        "# Creating the bar chart\n",
        "plt.figure(figsize=(8, 5))\n",
        "plt.bar(categories, counts, color=[fig1, fig2, fig3])\n",
        "plt.title('Sentence Count Per Label')\n",
        "plt.xlabel('Label')\n",
        "plt.ylabel('Count')\n",
        "\n",
        "# Get the mean and median\n",
        "mean_occurrences = np.mean(type_counts)\n",
        "median_occurrences = np.median(type_counts)\n",
        "\n",
        "# Add the mean and median lines (red and green respectively)\n",
        "plt.axhline(y=mean_occurrences, color='r', linestyle='-', label=f'Mean: {mean_occurrences:.2f}')\n",
        "plt.axhline(y=median_occurrences, color='g', linestyle='--', label=f'Median: {median_occurrences:.2f}')\n",
        "plt.legend(loc=4)\n",
        "\n",
        "plt.show()"
      ],
      "metadata": {
        "id": "1WeJNFTVynS5"
      },
      "execution_count": null,
      "outputs": []
    },
    {
      "cell_type": "markdown",
      "source": [
        "![image.png](data:image/png;base64,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)"
      ],
      "metadata": {
        "id": "g7Bw1yGFxuvy"
      }
    },
    {
      "cell_type": "markdown",
      "source": [
        "![image.png](data:image/png;base64,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)"
      ],
      "metadata": {
        "id": "qtqQmAW1J0ic"
      }
    },
    {
      "cell_type": "code",
      "source": [
        "# Push section changes to global df\n",
        "df = balanced_df"
      ],
      "metadata": {
        "id": "B75O04gQNoBL"
      },
      "execution_count": null,
      "outputs": []
    },
    {
      "cell_type": "markdown",
      "source": [
        "# Advanced Anaylsis"
      ],
      "metadata": {
        "id": "VPwWa0zdD6e-"
      }
    },
    {
      "cell_type": "markdown",
      "source": [
        "At this point the 'final' dataset has been created.\n",
        "\n",
        "This section is to further analyse the dataset and determine the characteristics of its content. The findings here will inform how the dataset can be expanded upon and updated in the future. In addition to this, it will be extremely helpful in learning what the dataset is trained with (biases, limitations) so that the input data for the model can be carefully selected to fit within the constraints of the dataset.\n",
        "\n",
        " For example, it could be that 90% of the dataset sentences contain an adjective, and if that's the case, it'd be safer to treat this model as 'detecting political bias in sentences with adjectives' and when selecting what text to predict bias in, we should aim for one with adjectives.\n",
        "\n",
        "\n",
        "**Libraries used**\n",
        "*   SpaCy\n",
        "*   TextBlob\n"
      ],
      "metadata": {
        "id": "rJgam9K8D8Lc"
      }
    },
    {
      "cell_type": "code",
      "source": [
        "from textblob import TextBlob\n",
        "import spacy\n",
        "from IPython.display import Markdown # For generating markdown tables\n",
        "from matplotlib_venn import venn3\n",
        "\n",
        "nlp = spacy.load(\"en_core_web_sm\")"
      ],
      "metadata": {
        "id": "0QXnRrYpmFmZ"
      },
      "execution_count": null,
      "outputs": []
    },
    {
      "cell_type": "code",
      "source": [
        "df_adv = df.copy()"
      ],
      "metadata": {
        "id": "_auDIPn1EtK3"
      },
      "execution_count": null,
      "outputs": []
    },
    {
      "cell_type": "code",
      "source": [
        "# calculate polarity and subjectivity\n",
        "def calculate_sentiment(text):\n",
        "    blob = TextBlob(text)\n",
        "    return blob.sentiment.polarity, blob.sentiment.subjectivity\n",
        "\n",
        "# Apply the function to each row\n",
        "df_adv['polarity'], df_adv['subjectivity'] = zip(*df_adv['text'].apply(calculate_sentiment))"
      ],
      "metadata": {
        "id": "0jEnS17hJgZ2"
      },
      "execution_count": null,
      "outputs": []
    },
    {
      "cell_type": "code",
      "source": [
        "def get_nlp_metrics(text):\n",
        "    doc = nlp(text)\n",
        "    entities = [ent.text for ent in doc.ents]\n",
        "    entity_labels = [ent.label_ for ent in doc.ents]\n",
        "    adjectives = [token.text for token in doc if token.pos_ == \"ADJ\"]\n",
        "    return entities, entity_labels, adjectives\n",
        "\n",
        "# Assign the results to new columns in the DataFrame\n",
        "df_adv['entities'], df_adv['entity_labels'], df_adv['adjectives'] = zip(*df_adv['text'].apply(get_nlp_metrics))"
      ],
      "metadata": {
        "id": "-WApLO0kKNQl"
      },
      "execution_count": null,
      "outputs": []
    },
    {
      "cell_type": "code",
      "source": [
        "df_left = df_adv[df_adv['label'] == 'left']\n",
        "df_center = df_adv[df_adv['label'] == 'center']\n",
        "df_right =df_adv[df_adv['label'] == 'right']"
      ],
      "metadata": {
        "id": "LK0P66v-I2nZ"
      },
      "execution_count": null,
      "outputs": []
    },
    {
      "cell_type": "code",
      "source": [
        "left_entities = df_left[df_left['entities'].apply(lambda x: len(x) > 0)]\n",
        "center_entities = df_center[df_center['entities'].apply(lambda x: len(x) > 0)]\n",
        "right_entities = df_right[df_right['entities'].apply(lambda x: len(x) > 0)]\n",
        "\n",
        "no_of_left_entities = len(left_entities)\n",
        "no_of_center_entities = len(center_entities)\n",
        "no_of_right_entities = len(right_entities)\n",
        "\n",
        "left_sentence_entity_percentage = (no_of_left_entities / len(df_left)) * 100\n",
        "center_sentence_entity_percentage = (no_of_center_entities / len(df_center)) * 100\n",
        "right_sentence_entity_percentage = (no_of_right_entities / len(df_right)) * 100\n",
        "\n",
        "# Create a small dataframe containing the results for displaying in a table\n",
        "data = {\n",
        "    'Label': ['Left', 'Center', 'Right'],\n",
        "    'No. of Sentences': [no_of_left_entities, no_of_center_entities, no_of_right_entities],\n",
        "    'Percentage of Sentences': [str(left_sentence_entity_percentage)[:5] + '%',\n",
        "                                str(center_sentence_entity_percentage)[:5] + '%',\n",
        "                                str(right_sentence_entity_percentage)[:5] + '%']\n",
        "}\n",
        "\n",
        "# Add a title and convert the dataframe to Markdown\n",
        "title = \"### Distribution of Sentences Containing an Entity\"\n",
        "markdown_table = title + \"\\n\\n\" + pd.DataFrame(data).to_markdown(index=False)\n",
        "\n",
        "display(Markdown(markdown_table))"
      ],
      "metadata": {
        "id": "efV5iwwwLODx"
      },
      "execution_count": null,
      "outputs": []
    },
    {
      "cell_type": "code",
      "source": [
        "# Print the entity types\n",
        "entity_types = nlp.get_pipe('ner').labels\n",
        "for entity_type in entity_types:\n",
        "    print(entity_type)"
      ],
      "metadata": {
        "id": "kbC74PwJo7tN"
      },
      "execution_count": null,
      "outputs": []
    },
    {
      "cell_type": "markdown",
      "source": [
        "Count the occurence of each entity type per label"
      ],
      "metadata": {
        "id": "L7EA7Zum8ARt"
      }
    },
    {
      "cell_type": "code",
      "source": [
        "left_entity_labels = df_left['entity_labels'].explode().value_counts()\n",
        "center_entity_labels = df_center['entity_labels'].explode().value_counts()\n",
        "right_entity_labels = df_right['entity_labels'].explode().value_counts()\n",
        "\n",
        "\n",
        "index = nlp.get_pipe('ner').labels\n",
        "\n",
        "all_entity_labels = pd.DataFrame({\n",
        "    'Entity Type': index,\n",
        "    'Left': left_entity_labels.reindex(index, fill_value=0).values,\n",
        "    'Center': center_entity_labels.reindex(index, fill_value=0).values,\n",
        "    'Right': right_entity_labels.reindex(index, fill_value=0).values\n",
        "})\n",
        "\n",
        "\n",
        "all_entity_labels['Total'] = all_entity_labels['Left'] + all_entity_labels['Center'] + all_entity_labels['Right']\n",
        "\n",
        "all_entity_labels = all_entity_labels.sort_values(by='Total', ascending=False)\n",
        "\n",
        "title = \"### Count of Entity Types Mentioned in Sentences\"\n",
        "markdown_table = title + \"\\n\\n\" + all_entity_labels.to_markdown(index=False)\n",
        "\n",
        "display(Markdown(markdown_table))"
      ],
      "metadata": {
        "id": "dkgM1upFpRIS"
      },
      "execution_count": null,
      "outputs": []
    },
    {
      "cell_type": "code",
      "source": [
        "from wordcloud import WordCloud"
      ],
      "metadata": {
        "id": "sRy4O0006e_A"
      },
      "execution_count": null,
      "outputs": []
    },
    {
      "cell_type": "code",
      "source": [
        "# Explode and to lowercase so adjectives like 'White' and 'white' are the same\n",
        "left_adjectives = df_left['adjectives'].explode().dropna().str.lower()\n",
        "center_adjectives = df_center['adjectives'].explode().dropna().str.lower()\n",
        "right_adjectives = df_right['adjectives'].explode().dropna().str.lower()\n",
        "\n",
        "# Filter out short text 'artefacts' like '-' being recognized as an adjective\n",
        "left_adjectives = left_adjectives[left_adjectives.str.len() > 1]\n",
        "center_adjectives = center_adjectives[center_adjectives.str.len() > 1]\n",
        "right_adjectives = right_adjectives[right_adjectives.str.len() > 1]"
      ],
      "metadata": {
        "id": "ePwDvEUUBPX8"
      },
      "execution_count": null,
      "outputs": []
    },
    {
      "cell_type": "code",
      "source": [
        "# Create a word cloud for each set of words\n",
        "left_wordcloud = WordCloud(background_color='white',collocations=False, colormap='inferno').generate(\" \".join(left_adjectives))\n",
        "center_wordcloud = WordCloud(background_color='white',collocations=False, colormap='inferno').generate(\" \".join(center_adjectives))\n",
        "right_wordcloud = WordCloud(background_color='white',collocations=False, colormap='inferno').generate(\" \".join(right_adjectives))\n",
        "\n",
        "# Plot the word clouds\n",
        "plt.imshow(left_wordcloud, interpolation='sinc')\n",
        "plt.title('Word Cloud of Adjectives in Left Sentences')\n",
        "plt.axis('off')\n",
        "plt.show()\n",
        "\n",
        "plt.imshow(center_wordcloud, interpolation='sinc')\n",
        "plt.title('Word Cloud of Adjectives in Center Sentences')\n",
        "plt.axis('off')\n",
        "plt.show()\n",
        "\n",
        "plt.imshow(right_wordcloud, interpolation='sinc')\n",
        "plt.title('Word Cloud of Adjectives in Right Sentences')\n",
        "plt.axis(\"off\")\n",
        "plt.show()\n"
      ],
      "metadata": {
        "id": "dPlfhujA6YUD"
      },
      "execution_count": null,
      "outputs": []
    },
    {
      "cell_type": "code",
      "source": [
        "plt.title('Adjective Overlap Between Labels (All Adjectives)')\n",
        "\n",
        "# Sets of unique adjectives\n",
        "left_set = set(left_adjectives)\n",
        "center_set = set(center_adjectives)\n",
        "right_set = set(right_adjectives)\n",
        "\n",
        "venn = venn3([left_set, right_set, center_set], ('Left', 'Right', 'Center'))\n",
        "\n",
        "plt.show()"
      ],
      "metadata": {
        "id": "k9INFFF7EmQI"
      },
      "execution_count": null,
      "outputs": []
    },
    {
      "cell_type": "markdown",
      "source": [
        "Center, Right, Left: \t330\n",
        "\n",
        "Center, Left: \t\t112\n",
        "\n",
        "Center, Right:\t\t104\n",
        "\n",
        "Left, Right: \t\t170\n",
        "\n",
        "Center: \t330\n",
        "\n",
        "Left: \t\t498\n",
        "\n",
        "Right: \t\t352"
      ],
      "metadata": {
        "id": "rXxbCw8lG8Q9"
      }
    },
    {
      "cell_type": "code",
      "source": [
        "top_left = left_adjectives.value_counts()[:10]\n",
        "top_center = center_adjectives.value_counts()[:10]\n",
        "top_right = right_adjectives.value_counts()[:10]"
      ],
      "metadata": {
        "id": "0trQzHryAh55"
      },
      "execution_count": null,
      "outputs": []
    },
    {
      "cell_type": "code",
      "source": [
        "print(top_left)\n",
        "print(top_center)\n",
        "print(top_right)"
      ],
      "metadata": {
        "id": "IV7LjFQENSAf"
      },
      "execution_count": null,
      "outputs": []
    },
    {
      "cell_type": "code",
      "source": [
        "plt.title('Adjective Overlap Between Labels (Top 10 Adjectives)')\n",
        "\n",
        "# Sets of unique adjectives\n",
        "left_set = set(top_left.index)\n",
        "center_set = set(top_center.index)\n",
        "right_set = set(top_right.index)\n",
        "\n",
        "venn = venn3([left_set, right_set, center_set], ('Left', 'Right', 'Center'))\n",
        "\n",
        "plt.show()"
      ],
      "metadata": {
        "id": "xB8QJ6RqDKlE"
      },
      "execution_count": null,
      "outputs": []
    },
    {
      "cell_type": "markdown",
      "source": [
        "**Polarity**\n",
        "\n",
        "refers to the emotional orientation of the content. It indicates the positivity or negativity expressed in the text.\n",
        "  - **-1**: Represents a very negative sentiment.\n",
        "  - **0**: Indicates neutrality.\n",
        "  - **+1**: Represents a very positive sentiment."
      ],
      "metadata": {
        "id": "398sRoRNlrc8"
      }
    },
    {
      "cell_type": "markdown",
      "source": [
        "**Subjectivity**\n",
        "\n",
        " measures the amount of personal opinion and factual information contained in the text. used to differentiate between factual information and personal opinions or beliefs.\n",
        "  - **0**: More objective, factual.\n",
        "  - **1**: Highly subjective, opinionated, or biased content."
      ],
      "metadata": {
        "id": "V68qa5Yjl1Jv"
      }
    },
    {
      "cell_type": "code",
      "source": [
        "average_left_polarity = df_left['polarity'].mean()\n",
        "average_center_polarity = df_center['polarity'].mean()\n",
        "average_right_polarity = df_right['polarity'].mean()\n",
        "\n",
        "average_left_subjectivity = df_left['subjectivity'].mean()\n",
        "average_center_subjectivity = df_center['subjectivity'].mean()\n",
        "average_right_subjectivity = df_right['subjectivity'].mean()\n",
        "\n",
        "\n",
        "# Create a small dataframe containing the results for displaying in a table\n",
        "data = {\n",
        "    'Label': ['Left', 'Center', 'Right'],\n",
        "    'Polarity Mean': [average_left_polarity, average_center_polarity, average_right_polarity],\n",
        "    'Subjectivity Mean': [average_left_subjectivity, average_center_subjectivity, average_right_subjectivity],\n",
        "}\n",
        "\n",
        "# Add a title and convert the dataframe to Markdown\n",
        "title = \"### Mean Sentimentality of Sentences\"\n",
        "markdown_table = title + \"\\n\\n\" + pd.DataFrame(data).to_markdown(index=False)\n",
        "\n",
        "display(Markdown(markdown_table))"
      ],
      "metadata": {
        "id": "QerxDhEbMgJu"
      },
      "execution_count": null,
      "outputs": []
    },
    {
      "cell_type": "markdown",
      "source": [
        "**Findings**\n",
        "* The ~6% higher adjective usage by the Left and ~4.5% by the Rught suggests a slightly more descriptive writing style for politically biased sentences in the dataset\n",
        "* The 0.41 (Left),  0.37 (Right), and  0.33 (Center) subjectivity values suggest that both Left, and Right are slightly more subjective than Center sentences, with Left being the highest level of subjectivity.\n",
        "* There is a small difference between mention of entities with the largest deviation of only 3.73% between Center (92.41%) and Left (88.68%). This suggests that the mention of entities is relatively balanced across all sets, with no particular leaning.\n",
        "* Mention of both an entity and an adjective is the most balanced metric across all sets with a max deviation of only 0.83% between Left (82.81%) and Right (81.98%)\n",
        "\n",
        "**Conclusion**\n",
        "\n",
        "There is a balanced representation of sentimentality, entity mentions, adjective usage, and polarity across all 3 labels."
      ],
      "metadata": {
        "id": "xRFLkbeBW79Z"
      }
    },
    {
      "cell_type": "markdown",
      "source": [
        "# Dataset Splitting"
      ],
      "metadata": {
        "id": "CA-g2fXCQAgd"
      }
    },
    {
      "cell_type": "code",
      "source": [
        "# Split the dataset into training and testing sets\n",
        "dataset = Dataset.from_pandas(df)\n",
        "dataset = dataset.train_test_split(test_size=0.2, seed=RANDOM_SEED)"
      ],
      "metadata": {
        "id": "bltZ9lGUQCFI"
      },
      "execution_count": null,
      "outputs": []
    },
    {
      "cell_type": "code",
      "source": [
        "train_dataset = dataset['train']\n",
        "eval_dataset = dataset['test']"
      ],
      "metadata": {
        "id": "D7RlENVrSrfM"
      },
      "execution_count": null,
      "outputs": []
    },
    {
      "cell_type": "code",
      "source": [
        "print(train_dataset)\n",
        "print(eval_dataset)"
      ],
      "metadata": {
        "id": "auUBsD_d3Oop"
      },
      "execution_count": null,
      "outputs": []
    },
    {
      "cell_type": "markdown",
      "source": [
        "# Training"
      ],
      "metadata": {
        "id": "E7BgTcAB9VXj"
      }
    },
    {
      "cell_type": "code",
      "source": [
        "from setfit import SetFitModel, SetFitTrainer, Trainer, TrainingArguments, sample_dataset\n",
        "from sentence_transformers.losses import CosineSimilarityLoss, ContrastiveLoss\n",
        "\n",
        "# Load a SetFit model from HuggingFace Hub\n",
        "model = SetFitModel.from_pretrained(\"BAAI/bge-small-en-v1.5\")\n",
        "# model = SetFitModel.from_pretrained(\"distilbert-base-uncased\")"
      ],
      "metadata": {
        "id": "8vuMr46_snYh"
      },
      "execution_count": null,
      "outputs": []
    },
    {
      "cell_type": "code",
      "source": [
        "from typing import Dict, List\n",
        "from sklearn.metrics import accuracy_score, f1_score, precision_score, recall_score\n",
        "import numpy as np\n",
        "\n",
        "def compute_metrics(y_pred: List[int], y_true: List[int]) -> Dict[str, float]:\n",
        "    # Convert predictions and references to numpy arrays if they aren't already\n",
        "    y_pred = np.array(y_pred)\n",
        "    y_true = np.array(y_true)\n",
        "\n",
        "    # Calculate metrics\n",
        "    accuracy = accuracy_score(y_true, y_pred)\n",
        "    precision = precision_score(y_true, y_pred, average='weighted')\n",
        "    recall = recall_score(y_true, y_pred, average='weighted')\n",
        "    f1 = f1_score(y_true, y_pred, average='weighted')\n",
        "\n",
        "    return {\n",
        "        'accuracy': accuracy,\n",
        "        'precision': precision,\n",
        "        'recall': recall,\n",
        "        'f1': f1,\n",
        "    }\n"
      ],
      "metadata": {
        "id": "JyN_siEXn1Av"
      },
      "execution_count": null,
      "outputs": []
    },
    {
      "cell_type": "code",
      "source": [
        "training_args = TrainingArguments(\n",
        "    batch_size=64,\n",
        "    num_epochs=1,\n",
        "    num_iterations=1,\n",
        "    max_steps=-1,\n",
        "    loss=CosineSimilarityLoss,\n",
        "    use_amp=True,\n",
        "    show_progress_bar=True,\n",
        "    seed=RANDOM_SEED,                          # Maintain the same seed for reproducibility\n",
        "    run_name=\"unifeed_bias_training\",\n",
        "    logging_strategy=\"epoch\",\n",
        "    evaluation_strategy=\"epoch\",               # Evaluate at the end of each epoch\n",
        "    save_strategy=\"epoch\",                     # Save model at the end of each epoch\n",
        "    save_total_limit=2,\n",
        "    load_best_model_at_end=True,               # Load the best model at the end of training\n",
        "    metric_for_best_model=\"accuracy\",\n",
        "    greater_is_better=True\n",
        ")\n"
      ],
      "metadata": {
        "id": "D4lL-qKx48rG"
      },
      "execution_count": null,
      "outputs": []
    },
    {
      "cell_type": "code",
      "source": [
        "trainer = Trainer(\n",
        "    model=model,\n",
        "    args=training_args,\n",
        "    train_dataset=train_dataset,\n",
        "    eval_dataset=eval_dataset,\n",
        "    metric=compute_metrics,\n",
        ")"
      ],
      "metadata": {
        "id": "k4WmVrz_24M6"
      },
      "execution_count": null,
      "outputs": []
    },
    {
      "cell_type": "code",
      "source": [
        "# Train and evaluate\n",
        "trainer.train()"
      ],
      "metadata": {
        "id": "qfVXM17It41c"
      },
      "execution_count": null,
      "outputs": []
    },
    {
      "cell_type": "code",
      "source": [
        "metrics = trainer.evaluate(eval_dataset)\n",
        "print(metrics)\n",
        "\n",
        "# inference\n",
        "preds = model.predict([\"Trump's strong leadership and commitment to America-first policies significantly bolstered our economy and national security, aligning with core conservative values.\",\n",
        "    \"Trump's tenure was marked by divisive rhetoric and policies that often undermined social justice and environmental progress.\",\n",
        "    \"While Trump's unconventional approach resonated with some, others were concerned about its impact on international relations and the overall tone of political discourse.\",\n",
        "    \"Biden's policies tend to overemphasize government intervention, potentially stifling economic growth and infringing on individual freedoms cherished by conservatives.\",\n",
        "    \"Biden's presidency represents a hopeful shift towards more progressive policies, emphasizing social equality, climate action, and healthcare reform.\",\n",
        "    \"Biden's moderate stance offers a more diplomatic and traditional approach to governance, yet some question if it adequately addresses the urgency of current challenges.\"])\n",
        "print(preds)"
      ],
      "metadata": {
        "id": "DGaQeDAStvpf"
      },
      "execution_count": null,
      "outputs": []
    },
    {
      "cell_type": "code",
      "source": [
        "from huggingface_hub import notebook_login\n",
        "notebook_login()"
      ],
      "metadata": {
        "id": "-pC_DPlI0XRd"
      },
      "execution_count": null,
      "outputs": []
    },
    {
      "cell_type": "code",
      "source": [
        "model.save_pretrained(\"unifeed\")\n",
        "model.push_to_hub(\"JordanTallon/Unifeed\")"
      ],
      "metadata": {
        "id": "3-zxPR7mx8FU"
      },
      "execution_count": null,
      "outputs": []
    }
  ]
}